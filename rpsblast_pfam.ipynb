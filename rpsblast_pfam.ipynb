{
 "metadata": {
  "name": "",
  "signature": "sha256:d61a7c10086d3c09573ae4c20d10cab63da107500cf108dc859e7ddaf7aaf9ec"
 },
 "nbformat": 3,
 "nbformat_minor": 0,
 "worksheets": [
  {
   "cells": [
    {
     "cell_type": "code",
     "collapsed": false,
     "input": [
      "import pandas as pd\n",
      "from collections import Counter\n",
      "import seaborn as sns\n",
      "import numpy as np\n",
      "\n",
      "%matplotlib inline"
     ],
     "language": "python",
     "metadata": {},
     "outputs": [],
     "prompt_number": 30
    },
    {
     "cell_type": "code",
     "collapsed": false,
     "input": [
      "df = pd.read_table(\"pfam_rpsblast_data/only_evalue.out\", header=None, names=[\"gene_id\", \"pfam_id\", \"e_value\", \"pident\", \"score\", \"qstart\", \"qend\", \"sstart\", \"send\", \"length\", \"slen\"])\n",
      "df.head()"
     ],
     "language": "python",
     "metadata": {},
     "outputs": [
      {
       "html": [
        "<div style=\"max-height:1000px;max-width:1500px;overflow:auto;\">\n",
        "<table border=\"1\" class=\"dataframe\">\n",
        "  <thead>\n",
        "    <tr style=\"text-align: right;\">\n",
        "      <th></th>\n",
        "      <th>gene_id</th>\n",
        "      <th>pfam_id</th>\n",
        "      <th>e_value</th>\n",
        "      <th>pident</th>\n",
        "      <th>score</th>\n",
        "      <th>qstart</th>\n",
        "      <th>qend</th>\n",
        "      <th>sstart</th>\n",
        "      <th>send</th>\n",
        "      <th>length</th>\n",
        "      <th>slen</th>\n",
        "    </tr>\n",
        "  </thead>\n",
        "  <tbody>\n",
        "    <tr>\n",
        "      <th>0</th>\n",
        "      <td> PROKKA_MOD_PART0_00003</td>\n",
        "      <td> gnl|CDD|249910</td>\n",
        "      <td> 2.000000e-20</td>\n",
        "      <td> 26.35</td>\n",
        "      <td> 212</td>\n",
        "      <td> 2</td>\n",
        "      <td> 168</td>\n",
        "      <td>  18</td>\n",
        "      <td> 157</td>\n",
        "      <td> 167</td>\n",
        "      <td> 398</td>\n",
        "    </tr>\n",
        "    <tr>\n",
        "      <th>1</th>\n",
        "      <td> PROKKA_MOD_PART0_00004</td>\n",
        "      <td> gnl|CDD|249894</td>\n",
        "      <td> 1.000000e-41</td>\n",
        "      <td> 41.26</td>\n",
        "      <td> 358</td>\n",
        "      <td> 1</td>\n",
        "      <td> 140</td>\n",
        "      <td> 106</td>\n",
        "      <td> 247</td>\n",
        "      <td> 143</td>\n",
        "      <td> 247</td>\n",
        "    </tr>\n",
        "    <tr>\n",
        "      <th>2</th>\n",
        "      <td> PROKKA_MOD_PART0_00007</td>\n",
        "      <td> gnl|CDD|257856</td>\n",
        "      <td> 2.000000e-25</td>\n",
        "      <td> 36.57</td>\n",
        "      <td> 244</td>\n",
        "      <td> 3</td>\n",
        "      <td> 134</td>\n",
        "      <td>   1</td>\n",
        "      <td> 117</td>\n",
        "      <td> 134</td>\n",
        "      <td> 119</td>\n",
        "    </tr>\n",
        "    <tr>\n",
        "      <th>3</th>\n",
        "      <td> PROKKA_MOD_PART0_00007</td>\n",
        "      <td> gnl|CDD|257842</td>\n",
        "      <td> 2.000000e-23</td>\n",
        "      <td> 33.33</td>\n",
        "      <td> 231</td>\n",
        "      <td> 1</td>\n",
        "      <td> 130</td>\n",
        "      <td>  14</td>\n",
        "      <td> 130</td>\n",
        "      <td> 132</td>\n",
        "      <td> 130</td>\n",
        "    </tr>\n",
        "    <tr>\n",
        "      <th>4</th>\n",
        "      <td> PROKKA_MOD_PART0_00007</td>\n",
        "      <td> gnl|CDD|249761</td>\n",
        "      <td> 5.000000e-23</td>\n",
        "      <td> 27.86</td>\n",
        "      <td> 234</td>\n",
        "      <td> 1</td>\n",
        "      <td> 131</td>\n",
        "      <td>  83</td>\n",
        "      <td> 215</td>\n",
        "      <td> 140</td>\n",
        "      <td> 215</td>\n",
        "    </tr>\n",
        "  </tbody>\n",
        "</table>\n",
        "</div>"
       ],
       "metadata": {},
       "output_type": "pyout",
       "prompt_number": 4,
       "text": [
        "                  gene_id         pfam_id       e_value  pident  score  \\\n",
        "0  PROKKA_MOD_PART0_00003  gnl|CDD|249910  2.000000e-20   26.35    212   \n",
        "1  PROKKA_MOD_PART0_00004  gnl|CDD|249894  1.000000e-41   41.26    358   \n",
        "2  PROKKA_MOD_PART0_00007  gnl|CDD|257856  2.000000e-25   36.57    244   \n",
        "3  PROKKA_MOD_PART0_00007  gnl|CDD|257842  2.000000e-23   33.33    231   \n",
        "4  PROKKA_MOD_PART0_00007  gnl|CDD|249761  5.000000e-23   27.86    234   \n",
        "\n",
        "   qstart  qend  sstart  send  length  slen  \n",
        "0       2   168      18   157     167   398  \n",
        "1       1   140     106   247     143   247  \n",
        "2       3   134       1   117     134   119  \n",
        "3       1   130      14   130     132   130  \n",
        "4       1   131      83   215     140   215  "
       ]
      }
     ],
     "prompt_number": 4
    },
    {
     "cell_type": "code",
     "collapsed": false,
     "input": [
      "for gene_id, gene_df in df.head().groupby('gene_id'):\n",
      "    for pfam_id, pfam_df in gene_df.groupby('pfam_id'):\n",
      "        print gene_id, pfam_id"
     ],
     "language": "python",
     "metadata": {},
     "outputs": [
      {
       "output_type": "stream",
       "stream": "stdout",
       "text": [
        "PROKKA_MOD_PART0_00003 gnl|CDD|249910\n",
        "PROKKA_MOD_PART0_00004 gnl|CDD|249894\n",
        "PROKKA_MOD_PART0_00007 gnl|CDD|249761\n",
        "PROKKA_MOD_PART0_00007 gnl|CDD|257842\n",
        "PROKKA_MOD_PART0_00007 gnl|CDD|257856\n"
       ]
      }
     ],
     "prompt_number": 11
    },
    {
     "cell_type": "code",
     "collapsed": false,
     "input": [
      "c = Counter()\n",
      "for gene_pfam_tuple, gene_pfam_df in df.groupby(['gene_id', 'pfam_id']):\n",
      "    gene_id, pfam_id = gene_pfam_tuple\n",
      "    c.update([len(gene_pfam_df)])"
     ],
     "language": "python",
     "metadata": {},
     "outputs": [],
     "prompt_number": 19
    },
    {
     "cell_type": "code",
     "collapsed": false,
     "input": [
      "c"
     ],
     "language": "python",
     "metadata": {},
     "outputs": [
      {
       "metadata": {},
       "output_type": "pyout",
       "prompt_number": 20,
       "text": [
        "Counter({1: 150218, 2: 3896, 3: 596, 4: 267, 5: 143, 6: 57, 7: 28, 8: 19, 9: 10, 12: 10, 10: 6, 13: 6, 11: 5, 14: 2, 18: 1, 19: 1, 20: 1})"
       ]
      }
     ],
     "prompt_number": 20
    },
    {
     "cell_type": "code",
     "collapsed": false,
     "input": [
      "sns.barplot(x=np.array(c.keys()),y=np.array(c.values()))"
     ],
     "language": "python",
     "metadata": {},
     "outputs": [
      {
       "metadata": {},
       "output_type": "pyout",
       "prompt_number": 31,
       "text": [
        "<matplotlib.axes._subplots.AxesSubplot at 0x106292ed0>"
       ]
      },
      {
       "metadata": {},
       "output_type": "display_data",
       "png": "[encoded data removed]",
       "text": [
        "<matplotlib.figure.Figure at 0x10dcbc150>"
       ]
      }
     ],
     "prompt_number": 31
    },
    {
     "cell_type": "code",
     "collapsed": false,
     "input": [
      "c.keys()"
     ],
     "language": "python",
     "metadata": {},
     "outputs": [
      {
       "metadata": {},
       "output_type": "pyout",
       "prompt_number": 26,
       "text": [
        "[1, 2, 3, 4, 5, 6, 7, 8, 9, 10, 11, 12, 13, 14, 18, 19, 20]"
       ]
      }
     ],
     "prompt_number": 26
    },
    {
     "cell_type": "code",
     "collapsed": false,
     "input": [
      "c.values()"
     ],
     "language": "python",
     "metadata": {},
     "outputs": [
      {
       "metadata": {},
       "output_type": "pyout",
       "prompt_number": 27,
       "text": [
        "[150218, 3896, 596, 267, 143, 57, 28, 19, 10, 6, 5, 10, 6, 2, 1, 1, 1]"
       ]
      }
     ],
     "prompt_number": 27
    },
    {
     "cell_type": "code",
     "collapsed": false,
     "input": [
      "sum(c.values()[1:])/float(sum(c.values()))"
     ],
     "language": "python",
     "metadata": {},
     "outputs": [
      {
       "metadata": {},
       "output_type": "pyout",
       "prompt_number": 39,
       "text": [
        "0.032511947238931894"
       ]
      }
     ],
     "prompt_number": 39
    },
    {
     "cell_type": "code",
     "collapsed": false,
     "input": [
      "# About 3 % of all pfam annotations on genes are \"duplicated\"."
     ],
     "language": "python",
     "metadata": {},
     "outputs": [],
     "prompt_number": 40
    },
    {
     "cell_type": "code",
     "collapsed": false,
     "input": [],
     "language": "python",
     "metadata": {},
     "outputs": []
    }
   ],
   "metadata": {}
  }
 ]
}
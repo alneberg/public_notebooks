{
 "metadata": {
  "name": "",
  "signature": "sha256:8f295373cb3e7676a1a92fc7087ab400fdba157c3a3acbbfa90254b4f55799d4"
 },
 "nbformat": 3,
 "nbformat_minor": 0,
 "worksheets": [
  {
   "cells": [
    {
     "cell_type": "code",
     "collapsed": false,
     "input": [
      "import pandas as pd\n",
      "import matplotlib as mpl\n",
      "import seaborn as sns\n",
      "\n",
      "%matplotlib inline"
     ],
     "language": "python",
     "metadata": {},
     "outputs": [],
     "prompt_number": 1
    },
    {
     "cell_type": "code",
     "collapsed": false,
     "input": [
      "sns.set_context('talk')"
     ],
     "language": "python",
     "metadata": {},
     "outputs": [],
     "prompt_number": 2
    },
    {
     "cell_type": "code",
     "collapsed": false,
     "input": [
      "usage = pd.read_table(\"uppmax_data/20151217.tsv\", index_col=0, names=[\"cluster\", \"jobstate\", \"user\", \n",
      "                                                                      \"project\", \"job_name\", \"endtime\", \n",
      "                                                                      \"runtime\", \"flags\", \"booked\", \n",
      "                                                                      \"cores\", \"node\", \"jobstats\"])"
     ],
     "language": "python",
     "metadata": {},
     "outputs": [],
     "prompt_number": 3
    },
    {
     "cell_type": "code",
     "collapsed": false,
     "input": [
      "def runtime_to_minutes(runtime_s):\n",
      "    if '-' in runtime_s:\n",
      "        try:\n",
      "            days_s, hours_s = runtime_s.split('-')\n",
      "            days = int(days_s)\n",
      "        except ValueError:\n",
      "            print runtime_s\n",
      "            raise\n",
      "    else:\n",
      "        days = 0\n",
      "        hours_s = runtime_s\n",
      "    hours, minutes, seconds = (int(x) for x in hours_s.split(':'))\n",
      "    return (days*24+hours)*60 + minutes"
     ],
     "language": "python",
     "metadata": {},
     "outputs": [],
     "prompt_number": 4
    },
    {
     "cell_type": "code",
     "collapsed": false,
     "input": [
      "usage['runtime_minutes'] = usage.runtime.apply(runtime_to_minutes)\n",
      "usage['cpu_minutes'] = usage['runtime_minutes'] * usage['booked']"
     ],
     "language": "python",
     "metadata": {},
     "outputs": [],
     "prompt_number": 5
    },
    {
     "cell_type": "code",
     "collapsed": false,
     "input": [
      "minutes_stats = {}\n",
      "minutes_stats['no_flags'] = usage[usage['flags'] =='.'].cpu_minutes.sum()\n",
      "minutes_stats['fat_node_flag_only'] = usage[usage['flags'] == 'node_type_overbooked:mem512GB:mem256GB'].cpu_minutes.sum() + \\\n",
      "    usage[usage['flags'] == 'node_type_overbooked:mem512GB:mem128GB'].cpu_minutes.sum() + \\\n",
      "    usage[usage['flags'] == 'node_type_overbooked:mem256GB:mem128GB'].cpu_minutes.sum()\n",
      "minutes_stats['other_overbooked'] = usage[usage['flags'] !='.'].cpu_minutes.sum() - minutes_stats['fat_node_flag_only']"
     ],
     "language": "python",
     "metadata": {},
     "outputs": [],
     "prompt_number": 6
    },
    {
     "cell_type": "markdown",
     "metadata": {},
     "source": [
      "## Proportion of efficiently running jobs\n",
      "Jobs that are flagged with using a fat node, when a thin node would have worked are not considered wasteful since there is normally no less access to fat nodes than thin nodes."
     ]
    },
    {
     "cell_type": "code",
     "collapsed": false,
     "input": [
      "ax = pd.Series(minutes_stats).plot(kind='pie', figsize=(6,6), autopct='%.2f', fontsize=18)\n",
      "t = ax.set_title(\"Percentage of CPU time over different flags\")"
     ],
     "language": "python",
     "metadata": {},
     "outputs": [
      {
       "metadata": {},
       "output_type": "display_data",
       "png": "[encoded data removed]",
       "text": [
        "<matplotlib.figure.Figure at 0x108905f10>"
       ]
      }
     ],
     "prompt_number": 7
    },
    {
     "cell_type": "code",
     "collapsed": false,
     "input": [
      "usage_other_overbooked = usage[(usage['flags'] != '.') & ~(usage['flags'].isin(['node_type_overbooked:mem512GB:mem256GB',\n",
      "                                                                                'node_type_overbooked:mem512GB:mem128GB',\n",
      "                                                                                'node_type_overbooked:mem256GB:mem128GB',\n",
      "                                                                                '!!swap_used']))]"
     ],
     "language": "python",
     "metadata": {},
     "outputs": [],
     "prompt_number": 8
    },
    {
     "cell_type": "markdown",
     "metadata": {},
     "source": [
      "## Finding the worst offending jobs\n",
      "Jobs which were overbooked that used the most cpu time"
     ]
    },
    {
     "cell_type": "code",
     "collapsed": false,
     "input": [
      "usage_other_overbooked.sort('cpu_minutes', ascending=False).head(10)[['flags','user','job_name', 'cpu_minutes']]"
     ],
     "language": "python",
     "metadata": {},
     "outputs": [
      {
       "html": [
        "<div style=\"max-height:1000px;max-width:1500px;overflow:auto;\">\n",
        "<table border=\"1\" class=\"dataframe\">\n",
        "  <thead>\n",
        "    <tr style=\"text-align: right;\">\n",
        "      <th></th>\n",
        "      <th>flags</th>\n",
        "      <th>user</th>\n",
        "      <th>job_name</th>\n",
        "      <th>cpu_minutes</th>\n",
        "    </tr>\n",
        "  </thead>\n",
        "  <tbody>\n",
        "    <tr>\n",
        "      <th>6483189</th>\n",
        "      <td> overbooked:44%,!!half_overbooked,node_type_ove...</td>\n",
        "      <td>     john</td>\n",
        "      <td> bt2-build.GOS.0001109.SwedAmLakes.asm.fasta</td>\n",
        "      <td> 28144</td>\n",
        "    </tr>\n",
        "    <tr>\n",
        "      <th>6561380</th>\n",
        "      <td> overbooked:44%,!!half_overbooked,node_type_ove...</td>\n",
        "      <td>     john</td>\n",
        "      <td> bt2-build.GOS.0001109.SwedAmLakes.asm.fasta</td>\n",
        "      <td> 24112</td>\n",
        "    </tr>\n",
        "    <tr>\n",
        "      <th>6474967</th>\n",
        "      <td> overbooked:44%,!!half_overbooked,node_type_ove...</td>\n",
        "      <td>     john</td>\n",
        "      <td> bt2-build.GOS.0001109.SwedAmLakes.asm.fasta</td>\n",
        "      <td> 23040</td>\n",
        "    </tr>\n",
        "    <tr>\n",
        "      <th>6575236</th>\n",
        "      <td> overbooked:33%,!!half_overbooked,cores_overboo...</td>\n",
        "      <td>   luisah</td>\n",
        "      <td>                                _interactive</td>\n",
        "      <td>  8280</td>\n",
        "    </tr>\n",
        "    <tr>\n",
        "      <th>6625019</th>\n",
        "      <td> overbooked:38%,!!half_overbooked,node_type_ove...</td>\n",
        "      <td>   luisah</td>\n",
        "      <td>                                    dadamain</td>\n",
        "      <td>  7184</td>\n",
        "    </tr>\n",
        "    <tr>\n",
        "      <th>6515502</th>\n",
        "      <td>  overbooked:59%,!!swap_used,cores_overbooked:16:4</td>\n",
        "      <td> alneberg</td>\n",
        "      <td>                    snakemake_kallisto_index</td>\n",
        "      <td>  5424</td>\n",
        "    </tr>\n",
        "    <tr>\n",
        "      <th>6716021</th>\n",
        "      <td> overbooked:38%,!!half_overbooked,cores_overboo...</td>\n",
        "      <td> alneberg</td>\n",
        "      <td>                     snakemake_bowtie2_index</td>\n",
        "      <td>  4400</td>\n",
        "    </tr>\n",
        "    <tr>\n",
        "      <th>6510733</th>\n",
        "      <td> overbooked:12%,!!half_overbooked,!!severely_ov...</td>\n",
        "      <td>     yueh</td>\n",
        "      <td>                                _interactive</td>\n",
        "      <td>  2400</td>\n",
        "    </tr>\n",
        "    <tr>\n",
        "      <th>6573466</th>\n",
        "      <td> overbooked:50%,cores_overbooked:6:3,mem_overbo...</td>\n",
        "      <td>   luisah</td>\n",
        "      <td>                                _interactive</td>\n",
        "      <td>  2028</td>\n",
        "    </tr>\n",
        "    <tr>\n",
        "      <th>6529692</th>\n",
        "      <td>                 !!swap_used,cores_overbooked:16:8</td>\n",
        "      <td> alneberg</td>\n",
        "      <td>             snakemake_kallisto_quant_sample</td>\n",
        "      <td>  1632</td>\n",
        "    </tr>\n",
        "  </tbody>\n",
        "</table>\n",
        "</div>"
       ],
       "metadata": {},
       "output_type": "pyout",
       "prompt_number": 9,
       "text": [
        "                                                     flags      user  \\\n",
        "6483189  overbooked:44%,!!half_overbooked,node_type_ove...      john   \n",
        "6561380  overbooked:44%,!!half_overbooked,node_type_ove...      john   \n",
        "6474967  overbooked:44%,!!half_overbooked,node_type_ove...      john   \n",
        "6575236  overbooked:33%,!!half_overbooked,cores_overboo...    luisah   \n",
        "6625019  overbooked:38%,!!half_overbooked,node_type_ove...    luisah   \n",
        "6515502   overbooked:59%,!!swap_used,cores_overbooked:16:4  alneberg   \n",
        "6716021  overbooked:38%,!!half_overbooked,cores_overboo...  alneberg   \n",
        "6510733  overbooked:12%,!!half_overbooked,!!severely_ov...      yueh   \n",
        "6573466  overbooked:50%,cores_overbooked:6:3,mem_overbo...    luisah   \n",
        "6529692                  !!swap_used,cores_overbooked:16:8  alneberg   \n",
        "\n",
        "                                            job_name  cpu_minutes  \n",
        "6483189  bt2-build.GOS.0001109.SwedAmLakes.asm.fasta        28144  \n",
        "6561380  bt2-build.GOS.0001109.SwedAmLakes.asm.fasta        24112  \n",
        "6474967  bt2-build.GOS.0001109.SwedAmLakes.asm.fasta        23040  \n",
        "6575236                                 _interactive         8280  \n",
        "6625019                                     dadamain         7184  \n",
        "6515502                     snakemake_kallisto_index         5424  \n",
        "6716021                      snakemake_bowtie2_index         4400  \n",
        "6510733                                 _interactive         2400  \n",
        "6573466                                 _interactive         2028  \n",
        "6529692              snakemake_kallisto_quant_sample         1632  "
       ]
      }
     ],
     "prompt_number": 9
    }
   ],
   "metadata": {}
  }
 ]
}
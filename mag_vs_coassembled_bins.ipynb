{
 "metadata": {
  "name": "",
  "signature": "sha256:ffe4f4a580bf35a53b9b434ac18950d72b5e755a479a9ec3c2894ad91fa39e7f"
 },
 "nbformat": 3,
 "nbformat_minor": 0,
 "worksheets": [
  {
   "cells": [
    {
     "cell_type": "markdown",
     "metadata": {},
     "source": [
      "# Mag vs coassembled bins\n",
      "The good bins in the coassembled concoct run did not match the major mag clusters (the ones that corresponded to multiple MAGs, which is also the high coverage bins).\n",
      "\n",
      "Here I want to compare the mags with the coassembled bins, even the ones that are not"
     ]
    },
    {
     "cell_type": "code",
     "collapsed": false,
     "input": [],
     "language": "python",
     "metadata": {},
     "outputs": []
    }
   ],
   "metadata": {}
  }
 ]
}
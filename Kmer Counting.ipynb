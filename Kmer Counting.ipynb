{
 "metadata": {
  "name": "",
  "signature": "sha256:1d7e648ba8147b82039d3e7dae6587f92a8582dcfbdef15a3f726e2ef3c6b2b3"
 },
 "nbformat": 3,
 "nbformat_minor": 0,
 "worksheets": [
  {
   "cells": [
    {
     "cell_type": "code",
     "collapsed": false,
     "input": [
      "%matplotlib inline\n",
      "import numpy as np\n",
      "from random import choice\n",
      "from itertools import product, tee, izip\n",
      "from collections import Counter\n",
      "import pandas as pd"
     ],
     "language": "python",
     "metadata": {},
     "outputs": [],
     "prompt_number": 41
    },
    {
     "cell_type": "code",
     "collapsed": false,
     "input": [
      "def window(seq,n):\n",
      "    els = tee(seq,n)\n",
      "    for i,el in enumerate(els):\n",
      "        for _ in xrange(i):\n",
      "            next(el, None)\n",
      "    return izip(*els)"
     ],
     "language": "python",
     "metadata": {},
     "outputs": [],
     "prompt_number": 8
    },
    {
     "cell_type": "code",
     "collapsed": false,
     "input": [
      "d = []\n",
      "for i in range(1000):\n",
      "    r_s = \"\".join(choice(\"ACGT\") for x in range(1000))\n",
      "    c = Counter([\"\".join(kmer_tuple) for kmer_tuple in window(r_s, 2)])\n",
      "    d.append(dict(c))"
     ],
     "language": "python",
     "metadata": {},
     "outputs": [],
     "prompt_number": 47
    },
    {
     "cell_type": "code",
     "collapsed": false,
     "input": [
      "df = pd.DataFrame(d)"
     ],
     "language": "python",
     "metadata": {},
     "outputs": [],
     "prompt_number": 48
    },
    {
     "cell_type": "code",
     "collapsed": false,
     "input": [
      "x = df.boxplot()"
     ],
     "language": "python",
     "metadata": {},
     "outputs": [
      {
       "metadata": {},
       "output_type": "display_data",
       "png": "[encoded data removed]",
       "text": [
        "<matplotlib.figure.Figure at 0x10b01fdd0>"
       ]
      }
     ],
     "prompt_number": 52
    },
    {
     "cell_type": "code",
     "collapsed": false,
     "input": [
      "def generate_feature_mapping(kmer_len):\n",
      "    BASE_COMPLEMENT = {\"A\":\"T\",\"T\":\"A\",\"G\":\"C\",\"C\":\"G\"}\n",
      "    kmer_hash = {}\n",
      "    counter = 0\n",
      "    for kmer in product(\"ATGC\",repeat=kmer_len):\n",
      "        kmer = ''.join(kmer)\n",
      "        if kmer not in kmer_hash:\n",
      "            kmer_hash[kmer] = counter\n",
      "            rev_compl = ''.join([BASE_COMPLEMENT[x] for x in reversed(kmer)])\n",
      "            kmer_hash[rev_compl] = counter\n",
      "            counter += 1\n",
      "    return kmer_hash, counter"
     ],
     "language": "python",
     "metadata": {},
     "outputs": [],
     "prompt_number": 56
    },
    {
     "cell_type": "code",
     "collapsed": false,
     "input": [
      "feature_mapping, kmer_count = generate_feature_mapping(2)"
     ],
     "language": "python",
     "metadata": {},
     "outputs": [],
     "prompt_number": 60
    },
    {
     "cell_type": "code",
     "collapsed": false,
     "input": [
      "feature_mapping"
     ],
     "language": "python",
     "metadata": {},
     "outputs": [
      {
       "metadata": {},
       "output_type": "pyout",
       "prompt_number": 61,
       "text": [
        "{'AA': 0,\n",
        " 'AC': 3,\n",
        " 'AG': 2,\n",
        " 'AT': 1,\n",
        " 'CA': 5,\n",
        " 'CC': 7,\n",
        " 'CG': 9,\n",
        " 'CT': 2,\n",
        " 'GA': 6,\n",
        " 'GC': 8,\n",
        " 'GG': 7,\n",
        " 'GT': 3,\n",
        " 'TA': 4,\n",
        " 'TC': 6,\n",
        " 'TG': 5,\n",
        " 'TT': 0}"
       ]
      }
     ],
     "prompt_number": 61
    },
    {
     "cell_type": "code",
     "collapsed": false,
     "input": [
      "d = []\n",
      "for i in range(1000):\n",
      "    r_s = \"\".join(choice(\"ACGT\") for x in range(1000))\n",
      "    c = Counter([feature_mapping[\"\".join(kmer_tuple)] for kmer_tuple in window(r_s, 2)])\n",
      "    d.append(dict(c))"
     ],
     "language": "python",
     "metadata": {},
     "outputs": [],
     "prompt_number": 65
    },
    {
     "cell_type": "code",
     "collapsed": false,
     "input": [
      "df2 = pd.DataFrame(d)"
     ],
     "language": "python",
     "metadata": {},
     "outputs": [],
     "prompt_number": 67
    },
    {
     "cell_type": "code",
     "collapsed": false,
     "input": [
      "x = df2.boxplot()"
     ],
     "language": "python",
     "metadata": {},
     "outputs": [
      {
       "metadata": {},
       "output_type": "display_data",
       "png": "[encoded data removed]",
       "text": [
        "<matplotlib.figure.Figure at 0x107401850>"
       ]
      }
     ],
     "prompt_number": 68
    },
    {
     "cell_type": "code",
     "collapsed": false,
     "input": [],
     "language": "python",
     "metadata": {},
     "outputs": []
    }
   ],
   "metadata": {}
  }
 ]
}
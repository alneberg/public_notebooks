{
 "metadata": {
  "name": "",
  "signature": "sha256:24aea13fd3529058bdb9d1c91c9b1c958fa24ad7cdf1d1c55dce7b9e4907ad8c"
 },
 "nbformat": 3,
 "nbformat_minor": 0,
 "worksheets": [
  {
   "cells": [
    {
     "cell_type": "code",
     "collapsed": false,
     "input": [
      "import pandas as pd"
     ],
     "language": "python",
     "metadata": {},
     "outputs": [],
     "prompt_number": 1
    },
    {
     "cell_type": "code",
     "collapsed": false,
     "input": [
      "t = pd.read_table(\"/Users/johannesalneberg/Data/msc_thesis/test_data/true_clustering.csv\", sep=',', names=[\"contig_id\", \"cluster\", \"not_sure1\", \"not_sure2\"], index_col=0)\n",
      "t.head()"
     ],
     "language": "python",
     "metadata": {},
     "outputs": [
      {
       "html": [
        "<div style=\"max-height:1000px;max-width:1500px;overflow:auto;\">\n",
        "<table border=\"1\" class=\"dataframe\">\n",
        "  <thead>\n",
        "    <tr style=\"text-align: right;\">\n",
        "      <th></th>\n",
        "      <th>cluster</th>\n",
        "      <th>not_sure1</th>\n",
        "      <th>not_sure2</th>\n",
        "    </tr>\n",
        "    <tr>\n",
        "      <th>contig_id</th>\n",
        "      <th></th>\n",
        "      <th></th>\n",
        "      <th></th>\n",
        "    </tr>\n",
        "  </thead>\n",
        "  <tbody>\n",
        "    <tr>\n",
        "      <th>contig-576.9</th>\n",
        "      <td>      BIF_LON</td>\n",
        "      <td> 1.000000</td>\n",
        "      <td> 287957</td>\n",
        "    </tr>\n",
        "    <tr>\n",
        "      <th>contig-576.8</th>\n",
        "      <td>      BIF_LON</td>\n",
        "      <td> 1.000000</td>\n",
        "      <td> 287006</td>\n",
        "    </tr>\n",
        "    <tr>\n",
        "      <th>contig-7000474</th>\n",
        "      <td> ESC_COL_O104</td>\n",
        "      <td> 0.579572</td>\n",
        "      <td>    421</td>\n",
        "    </tr>\n",
        "    <tr>\n",
        "      <th>contig-576.3</th>\n",
        "      <td>      BIF_LON</td>\n",
        "      <td> 1.000000</td>\n",
        "      <td> 288719</td>\n",
        "    </tr>\n",
        "    <tr>\n",
        "      <th>contig-576.2</th>\n",
        "      <td>      BIF_LON</td>\n",
        "      <td> 1.000000</td>\n",
        "      <td> 288238</td>\n",
        "    </tr>\n",
        "  </tbody>\n",
        "</table>\n",
        "</div>"
       ],
       "metadata": {},
       "output_type": "pyout",
       "prompt_number": 5,
       "text": [
        "                     cluster  not_sure1  not_sure2\n",
        "contig_id                                         \n",
        "contig-576.9         BIF_LON   1.000000     287957\n",
        "contig-576.8         BIF_LON   1.000000     287006\n",
        "contig-7000474  ESC_COL_O104   0.579572        421\n",
        "contig-576.3         BIF_LON   1.000000     288719\n",
        "contig-576.2         BIF_LON   1.000000     288238"
       ]
      }
     ],
     "prompt_number": 5
    },
    {
     "cell_type": "code",
     "collapsed": false,
     "input": [
      "clustering = {}\n",
      "for contig in t.index:\n",
      "    real_contig = contig.split('.')[0]\n",
      "    if real_contig in clustering:\n",
      "        if clustering[real_contig] != t['cluster'].ix[contig]:\n",
      "            print real_contig\n",
      "    else:\n",
      "        clustering[real_contig] = t['cluster'].ix[contig]"
     ],
     "language": "python",
     "metadata": {},
     "outputs": [
      {
       "output_type": "stream",
       "stream": "stdout",
       "text": [
        "contig-1789\n",
        "contig-1789\n",
        "contig-2000738"
       ]
      },
      {
       "output_type": "stream",
       "stream": "stdout",
       "text": [
        "\n"
       ]
      }
     ],
     "prompt_number": 9
    },
    {
     "cell_type": "code",
     "collapsed": false,
     "input": [
      "df_out = pd.DataFrame.from_dict(clustering, orient='index')\n",
      "df_out.head()"
     ],
     "language": "python",
     "metadata": {},
     "outputs": [
      {
       "html": [
        "<div style=\"max-height:1000px;max-width:1500px;overflow:auto;\">\n",
        "<table border=\"1\" class=\"dataframe\">\n",
        "  <thead>\n",
        "    <tr style=\"text-align: right;\">\n",
        "      <th></th>\n",
        "      <th>0</th>\n",
        "    </tr>\n",
        "  </thead>\n",
        "  <tbody>\n",
        "    <tr>\n",
        "      <th>contig-1838</th>\n",
        "      <td>  ESC_COL_K12</td>\n",
        "    </tr>\n",
        "    <tr>\n",
        "      <th>contig-1839</th>\n",
        "      <td>  ESC_COL_K12</td>\n",
        "    </tr>\n",
        "    <tr>\n",
        "      <th>contig-7000474</th>\n",
        "      <td> ESC_COL_O104</td>\n",
        "    </tr>\n",
        "    <tr>\n",
        "      <th>contig-1830</th>\n",
        "      <td>  ESC_COL_K12</td>\n",
        "    </tr>\n",
        "    <tr>\n",
        "      <th>contig-1831</th>\n",
        "      <td>      LAC_BRE</td>\n",
        "    </tr>\n",
        "  </tbody>\n",
        "</table>\n",
        "</div>"
       ],
       "metadata": {},
       "output_type": "pyout",
       "prompt_number": 11,
       "text": [
        "                           0\n",
        "contig-1838      ESC_COL_K12\n",
        "contig-1839      ESC_COL_K12\n",
        "contig-7000474  ESC_COL_O104\n",
        "contig-1830      ESC_COL_K12\n",
        "contig-1831          LAC_BRE"
       ]
      }
     ],
     "prompt_number": 11
    },
    {
     "cell_type": "code",
     "collapsed": false,
     "input": [],
     "language": "python",
     "metadata": {},
     "outputs": []
    },
    {
     "cell_type": "code",
     "collapsed": false,
     "input": [],
     "language": "python",
     "metadata": {},
     "outputs": []
    }
   ],
   "metadata": {}
  }
 ]
}
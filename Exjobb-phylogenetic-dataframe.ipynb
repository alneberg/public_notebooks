{
 "metadata": {
  "name": ""
 },
 "nbformat": 3,
 "nbformat_minor": 0,
 "worksheets": [
  {
   "cells": [
    {
     "cell_type": "code",
     "collapsed": false,
     "input": [
      "import pandas as pd\n",
      "import glob"
     ],
     "language": "python",
     "metadata": {},
     "outputs": [],
     "prompt_number": 1
    },
    {
     "cell_type": "code",
     "collapsed": false,
     "input": [
      "cd /Users/johannesalneberg/Dropbox/Documents/University\\ Studies"
     ],
     "language": "python",
     "metadata": {},
     "outputs": [
      {
       "output_type": "stream",
       "stream": "stdout",
       "text": [
        "/Users/johannesalneberg/Dropbox/Documents/University Studies\n"
       ]
      }
     ],
     "prompt_number": 2
    },
    {
     "cell_type": "code",
     "collapsed": false,
     "input": [
      "cd Kungliga\\ Tekniska\\ Ho\u0308gskolan"
     ],
     "language": "python",
     "metadata": {},
     "outputs": [
      {
       "output_type": "stream",
       "stream": "stdout",
       "text": [
        "/Users/johannesalneberg/Dropbox/Documents/University Studies/Kungliga Tekniska Ho\u0308gskolan\n"
       ]
      }
     ],
     "prompt_number": 3
    },
    {
     "cell_type": "code",
     "collapsed": false,
     "input": [
      "cd Exjobb/"
     ],
     "language": "python",
     "metadata": {},
     "outputs": [
      {
       "output_type": "stream",
       "stream": "stdout",
       "text": [
        "/Users/johannesalneberg/Dropbox/Documents/University Studies/Kungliga Tekniska Ho\u0308gskolan/Exjobb\n"
       ]
      }
     ],
     "prompt_number": 4
    },
    {
     "cell_type": "code",
     "collapsed": false,
     "input": [
      "cd results/"
     ],
     "language": "python",
     "metadata": {},
     "outputs": [
      {
       "output_type": "stream",
       "stream": "stdout",
       "text": [
        "/Users/johannesalneberg/Dropbox/Documents/University Studies/Kungliga Tekniska Ho\u0308gskolan/Exjobb/results\n"
       ]
      }
     ],
     "prompt_number": 5
    },
    {
     "cell_type": "code",
     "collapsed": false,
     "input": [
      "#series = {}\n",
      "#series['plasmid'] = pd.Series.from_csv('correct_clustering.csv')\n",
      "#for f in glob.glob(\"correct_clustering_*\"):\n",
      "#   series[f[19:][:-4]] = pd.Series.from_csv(f)\n",
      "df = pd.read_csv('correct_clustering_table.csv')"
     ],
     "language": "python",
     "metadata": {},
     "outputs": [],
     "prompt_number": 12
    },
    {
     "cell_type": "code",
     "collapsed": false,
     "input": [
      "#df = pd.DataFrame(series)\n",
      "df"
     ],
     "language": "python",
     "metadata": {},
     "outputs": [
      {
       "html": [
        "<pre>\n",
        "&lt;class 'pandas.core.frame.DataFrame'&gt;\n",
        "Int64Index: 1247 entries, 0 to 1246\n",
        "Data columns (total 10 columns):\n",
        "Unnamed: 0      1247  non-null values\n",
        "class           1179  non-null values\n",
        "family          1199  non-null values\n",
        "genome          1247  non-null values\n",
        "genus           1247  non-null values\n",
        "order           1242  non-null values\n",
        "phylum          1247  non-null values\n",
        "plasmid         1247  non-null values\n",
        "species         1118  non-null values\n",
        "superkingdom    1247  non-null values\n",
        "dtypes: object(10)\n",
        "</pre>"
       ],
       "metadata": {},
       "output_type": "pyout",
       "prompt_number": 13,
       "text": [
        "<class 'pandas.core.frame.DataFrame'>\n",
        "Int64Index: 1247 entries, 0 to 1246\n",
        "Data columns (total 10 columns):\n",
        "Unnamed: 0      1247  non-null values\n",
        "class           1179  non-null values\n",
        "family          1199  non-null values\n",
        "genome          1247  non-null values\n",
        "genus           1247  non-null values\n",
        "order           1242  non-null values\n",
        "phylum          1247  non-null values\n",
        "plasmid         1247  non-null values\n",
        "species         1118  non-null values\n",
        "superkingdom    1247  non-null values\n",
        "dtypes: object(10)"
       ]
      }
     ],
     "prompt_number": 13
    },
    {
     "cell_type": "code",
     "collapsed": false,
     "input": [
      "#df.to_csv('correct_clustering_table.csv')"
     ],
     "language": "python",
     "metadata": {},
     "outputs": [],
     "prompt_number": 67
    },
    {
     "cell_type": "code",
     "collapsed": false,
     "input": [
      "sorted_cols = ['plasmid', 'genome', 'species', 'genus', 'family',\n",
      "               'order', 'class', 'phylum', 'superkingdom']\n",
      "for col in sorted_cols:\n",
      "    print len(df[col].unique()), col"
     ],
     "language": "python",
     "metadata": {},
     "outputs": [
      {
       "output_type": "stream",
       "stream": "stdout",
       "text": [
        "173 plasmid\n",
        "100 genome\n",
        "81 species\n",
        "63 genus\n",
        "53 family\n",
        "37 order\n",
        "20 class\n",
        "12 phylum\n",
        "2 superkingdom\n"
       ]
      }
     ],
     "prompt_number": 24
    },
    {
     "cell_type": "code",
     "collapsed": false,
     "input": [
      "df['order'].value_counts()"
     ],
     "language": "python",
     "metadata": {},
     "outputs": [
      {
       "metadata": {},
       "output_type": "pyout",
       "prompt_number": 30,
       "text": [
        "Bacillales            124\n",
        "Clostridiales         117\n",
        "Actinomycetales       117\n",
        "Lactobacillales       104\n",
        "Enterobacteriales     100\n",
        "Mycoplasmatales        59\n",
        "Burkholderiales        54\n",
        "Chlamydiales           44\n",
        "Rhodobacterales        43\n",
        "Legionellales          38\n",
        "Cytophagales           37\n",
        "Rhodospirillales       33\n",
        "Rhizobiales            33\n",
        "Thermococcales         30\n",
        "Oscillatoriales        28\n",
        "Rickettsiales          23\n",
        "Bifidobacteriales      22\n",
        "Campylobacterales      20\n",
        "Alteromonadales        18\n",
        "Aquificales            17\n",
        "Chroococcales          15\n",
        "Pasteurellales         15\n",
        "Chlorobiales           15\n",
        "Sulfolobales           15\n",
        "Bacteroidales          14\n",
        "Caulobacterales        14\n",
        "Prochlorales           13\n",
        "Nostocales             12\n",
        "Oceanospirillales      12\n",
        "Pseudomonadales        11\n",
        "Desulfovibrionales     10\n",
        "Deinococcales           8\n",
        "Methanomicrobiales      7\n",
        "Flavobacteriales        7\n",
        "Desulfurococcales       7\n",
        "Thermoproteales         6\n",
        "dtype: int64"
       ]
      }
     ],
     "prompt_number": 30
    },
    {
     "cell_type": "code",
     "collapsed": false,
     "input": [
      "df['class'].value_counts()"
     ],
     "language": "python",
     "metadata": {},
     "outputs": [
      {
       "metadata": {},
       "output_type": "pyout",
       "prompt_number": 29,
       "text": [
        "Bacilli                  228\n",
        "Gammaproteobacteria      194\n",
        "Alphaproteobacteria      151\n",
        "Actinobacteria           139\n",
        "Clostridia               117\n",
        "Mollicutes                59\n",
        "Betaproteobacteria        54\n",
        "Chlamydiia                44\n",
        "Cytophagia                37\n",
        "Thermococci               30\n",
        "Thermoprotei              28\n",
        "Epsilonproteobacteria     20\n",
        "Aquificae                 17\n",
        "Chlorobia                 15\n",
        "Bacteroidia               14\n",
        "Deltaproteobacteria       10\n",
        "Deinococci                 8\n",
        "Methanomicrobia            7\n",
        "Flavobacteriia             7\n",
        "dtype: int64"
       ]
      }
     ],
     "prompt_number": 29
    },
    {
     "cell_type": "code",
     "collapsed": false,
     "input": [
      "df['phylum'].value_counts()"
     ],
     "language": "python",
     "metadata": {},
     "outputs": [
      {
       "metadata": {},
       "output_type": "pyout",
       "prompt_number": 31,
       "text": [
        "Proteobacteria         429\n",
        "Firmicutes             345\n",
        "Actinobacteria         139\n",
        "Cyanobacteria           68\n",
        "Tenericutes             59\n",
        "Bacteroidetes           58\n",
        "Chlamydiae              44\n",
        "Euryarchaeota           37\n",
        "Crenarchaeota           28\n",
        "Aquificae               17\n",
        "Chlorobi                15\n",
        "Deinococcus-Thermus      8\n",
        "dtype: int64"
       ]
      }
     ],
     "prompt_number": 31
    },
    {
     "cell_type": "code",
     "collapsed": false,
     "input": [
      "df['superkingdom'].value_counts()"
     ],
     "language": "python",
     "metadata": {},
     "outputs": [
      {
       "metadata": {},
       "output_type": "pyout",
       "prompt_number": 32,
       "text": [
        "Bacteria    1182\n",
        "Archaea       65\n",
        "dtype: int64"
       ]
      }
     ],
     "prompt_number": 32
    },
    {
     "cell_type": "code",
     "collapsed": false,
     "input": [
      "# Group by genome and then on plasmid, count rows within each plasmid group.\n",
      "for genome, g_group in df.groupby('genome'):\n",
      "    g_count = \"{}:\\t\".format(genome)\n",
      "    for plasmid, p_group in g_group.groupby('plasmid'):\n",
      "        g_count += str(p_group.plasmid.count()) + '\\t'\n",
      "    print g_count"
     ],
     "language": "python",
     "metadata": {},
     "outputs": [
      {
       "output_type": "stream",
       "stream": "stdout",
       "text": [
        "Acidiphilium_multivorum_AIU301_uid63345:\t5\t5\t5\t2\t1\t1\t3\t1\t10\t\n",
        "Acidovorax_KKS102_uid176500:\t14\t\n",
        "Acinetobacter_ADP1_uid61597:\t6\t\n",
        "Actinoplanes_missouriensis_431_uid158169:\t10\t\n",
        "Alkaliphilus_metalliredigens_QYMF_uid58171:\t4\t\n",
        "Anoxybacillus_flavithermus_WK1_uid59135:\t11\t\n",
        "Azotobacter_vinelandii_DJ_uid57597:\t5\t\n",
        "Bacillus_cereus_Q1_uid58529:\t6\t1\t6\t\n",
        "Bacillus_licheniformis_DSM_13___ATCC_14580_uid58199:\t7\t\n",
        "Bacillus_selenitireducens_MLS10_uid49513:\t9\t\n",
        "Bacillus_subtilis_natto_BEST195_uid183001:\t6\t4\t\n",
        "Bacillus_thuringiensis_Al_Hakam_uid58795:\t5\t15\t\n",
        "Bacteroides_salanitronis_DSM_18170_uid63269:\t3\t5\t5\t1\t\n",
        "Bartonella_quintana_RM_11_uid174512:\t6\t\n",
        "Bifidobacterium_asteroides_PRL2011_uid176921:\t6\t\n",
        "Bifidobacterium_bifidum_BGN4_uid167988:\t16\t\n",
        "Blattabacterium__Mastotermes_darwiniensis__MADAR_uid77127:\t1\t6\t\n",
        "Brucella_melitensis_M5_90_uid158855:\t18\t9\t\n",
        "Burkholderia_cenocepacia_J2315_uid57953:\t6\t10\t6\t18\t\n",
        "Candidatus_Mycoplasma_haemolamae_Purdue_uid171259:\t4\t\n",
        "Caulobacter_crescentus_CB15_uid57891:\t14\t\n",
        "Chlamydia_psittaci_GR9_uid175572:\t13\t\n",
        "Chlamydia_psittaci_MN_uid175573:\t14\t5\t\n",
        "Chlamydophila_abortus_S26_3_uid57963:\t7\t\n",
        "Chlamydophila_pneumoniae_CWL029_uid57811:\t5\t\n",
        "Chromohalobacter_salexigens_DSM_3043_uid62921:\t7\t\n",
        "Clostridium_BNL1100_uid84307:\t23\t\n",
        "Clostridium_botulinum_A_ATCC_3502_uid61579:\t13\t2\t\n",
        "Clostridium_botulinum_A_Hall_uid58931:\t3\t\n",
        "Clostridium_kluyveri_NBRC_12016_uid59369:\t4\t7\t\n",
        "Clostridium_ljungdahlii_DSM_13528_uid50583:\t7\t\n",
        "Clostridium_perfringens_13_uid57681:\t3\t15\t"
       ]
      },
      {
       "output_type": "stream",
       "stream": "stdout",
       "text": [
        "\n",
        "Clostridium_perfringens_ATCC_13124_uid57901:\t4\t\n",
        "Colwellia_psychrerythraea_34H_uid57855:\t5\t\n",
        "Corynebacterium_diphtheriae_INCA_402_uid83605:\t3\t\n",
        "Corynebacterium_pseudotuberculosis_FRC41_uid50585:\t14\t\n",
        "Deinococcus_maricopensis_DSM_21211_uid62225:\t8\t\n",
        "Desulfovibrio_vulgaris__Miyazaki_F__uid59089:\t10\t\n",
        "Emticicia_oligotrophica_DSM_17448_uid177079:\t6\t2\t7\t2\t7\t13\t\n",
        "Escherichia_coli_ED1a_uid59379:\t20\t\n",
        "Escherichia_coli_SMS_3_5_uid58919:\t2\t2\t1\t2\t8\t\n",
        "Escherichia_coli_UMN026_uid62981:\t5\t6\t2\t\n",
        "Ethanoligenens_harbinense_YUAN_3_uid46255:\t7\t\n",
        "Eubacterium_limosum_KIST612_uid59777:\t11\t\n",
        "Geobacillus_kaustophilus_HTA426_uid58227:\t5\t5\t\n",
        "Geodermatophilus_obscurus_DSM_43160_uid43725:\t8\t\n",
        "Haemophilus_parasuis_SH0165_uid59273:\t15\t\n",
        "Halomonas_elongata_DSM_2581_uid52781:\t5\t\n",
        "Helicobacter_pylori_Sat464_uid159467:\t3\t2\t\n",
        "Helicobacter_pylori_Shi169_uid162209:\t8\t\n",
        "Helicobacter_pylori_uid159983:\t7\t\n",
        "Ignicoccus_hospitalis_KIN4_I_uid58365:\t7\t\n",
        "Lactobacillus_acidophilus_30SC_uid63605:\t1\t3\t10\t\n",
        "Lactobacillus_casei_W56_uid178736:\t14\t2\t\n",
        "Lactobacillus_delbrueckii_bulgaricus_2038_uid161929:\t1\t\n",
        "Legionella_pneumophila_Lens_uid58209:\t8\t18\t\n",
        "Legionella_pneumophila_Paris_uid58211:\t3\t9\t\n",
        "Leuconostoc_gelidum_JB7_uid175682:\t12\t\n",
        "Leuconostoc_kimchii_IMSNU_11154_uid48589:\t6\t4\t7\t3\t5\t3\t\n",
        "Methanoculleus_marisnigri_JR1_uid58561:\t7\t\n",
        "Micavibrio_aeruginosavorus_ARL_13_uid73585:\t5\t\n",
        "Micrococcus_luteus_NCTC_2665_uid59033:\t12\t\n",
        "Mycobacterium_indicus_pranii_MTCC_9506_uid175523:\t3\t\n",
        "Mycobacterium_tuberculosis_RGTB423_uid162179:\t2\t\n",
        "Mycoplasma_gallisepticum_R_low__uid57993:\t13\t"
       ]
      },
      {
       "output_type": "stream",
       "stream": "stdout",
       "text": [
        "\n",
        "Mycoplasma_gallisepticum_VA94_7994_1_7P_uid172624:\t3\t\n",
        "Mycoplasma_genitalium_M6320_uid173370:\t19\t\n",
        "Mycoplasma_haemofelis_Langford_1_uid62461:\t3\t\n",
        "Mycoplasma_pulmonis_UAB_CTIP_uid61569:\t10\t\n",
        "Mycoplasma_suis_Illinois_uid61897:\t7\t\n",
        "Nocardioides_JS614_uid58149:\t11\t19\t\n",
        "Nocardiopsis_alba_ATCC_BAA_2165_uid174334:\t7\t\n",
        "Oscillatoria_PCC_7112_uid183110:\t1\t3\t3\t5\t2\t14\t\n",
        "Paenibacillus_mucilaginosus_3016_uid89377:\t8\t\n",
        "Persephonella_marina_EX_H1_uid58119:\t4\t13\t\n",
        "Prochlorococcus_marinus_MIT_9515_uid58313:\t13\t\n",
        "Prosthecochloris_aestuarii_DSM_271_uid58151:\t12\t3\t\n",
        "Pseudonocardia_dioxanivorans_CB1190_uid65087:\t2\t2\t9\t1\t11\t3\t\n",
        "Pyrobaculum_aerophilum_IM2_uid57727:\t6\t\n",
        "Pyrococcus_yayanosii_CH1_uid68281:\t17\t\n",
        "Rhodobacter_sphaeroides_2_4_1_uid57653:\t4\t6\t6\t6\t3\t5\t13\t\n",
        "Rickettsia_bellii_RML369_C_uid58405:\t13\t\n",
        "Rickettsia_canadensis_McKiel_uid58159:\t2\t\n",
        "Rickettsia_rickettsii_Hlp_2_uid88067:\t8\t\n",
        "Rivularia_PCC_7116_uid182929:\t9\t2\t1\t\n",
        "Roseburia_hominis_A2_183_uid73419:\t14\t\n",
        "Salmonella_enterica_serovar_Paratyphi_B_SPB7_uid59097:\t20\t\n",
        "Salmonella_enterica_serovar_Paratyphi_C_RKS4594_uid59063:\t6\t6\t\n",
        "Shewanella_MR_4_uid58345:\t13\t\n",
        "Staphylococcus_aureus_COL_uid57797:\t15\t2\t\n",
        "Staphylococcus_aureus_JH1_uid58457:\t6\t6\t\n",
        "Staphylococcus_aureus_NCTC_8325_uid57795:\t7\t\n",
        "Streptococcus_agalactiae_NEM316_uid61585:\t7\t\n",
        "Streptococcus_mutans_GS_5_uid169223:\t7\t\n",
        "Streptococcus_pyogenes_MGAS10394_uid58105:\t11\t\n",
        "Streptococcus_suis_ST3_uid66327:\t8\t\n",
        "Sulfolobus_islandicus_L_S_2_15_uid58871:\t15\t\n",
        "Synechocystis_PCC_6803_uid159873:\t15\t\n",
        "Thermococcus_sibiricus_MM_739_uid59399:\t13\t\n",
        "Yersinia_pestis_A1122_uid158119:\t2\t16\t2\t\n"
       ]
      }
     ],
     "prompt_number": 77
    },
    {
     "cell_type": "code",
     "collapsed": false,
     "input": [
      "g_count"
     ],
     "language": "python",
     "metadata": {},
     "outputs": [
      {
       "metadata": {},
       "output_type": "pyout",
       "prompt_number": 76,
       "text": [
        "'Yersinia_pestis_A1122_uid158119:\\t2\\t16\\t2\\t'"
       ]
      }
     ],
     "prompt_number": 76
    },
    {
     "cell_type": "code",
     "collapsed": false,
     "input": [
      "df.plasmid.count()"
     ],
     "language": "python",
     "metadata": {},
     "outputs": [
      {
       "metadata": {},
       "output_type": "pyout",
       "prompt_number": 74,
       "text": [
        "1247"
       ]
      }
     ],
     "prompt_number": 74
    },
    {
     "cell_type": "code",
     "collapsed": false,
     "input": [
      "# Check how the contigs are generated."
     ],
     "language": "python",
     "metadata": {},
     "outputs": []
    }
   ],
   "metadata": {}
  }
 ]
}